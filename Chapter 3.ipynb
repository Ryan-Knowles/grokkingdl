{
 "cells": [
  {
   "cell_type": "markdown",
   "id": "cd0ccffc-0d6e-4fbf-9313-d096291eb523",
   "metadata": {},
   "source": [
    "# Chapter 3 - Introduction to neural prediction: forward propagation\n",
    "-------\n",
    "\n",
    "## Your first neural network\n",
    "\n",
    "A neural network simply takes in some piece of data with a weight (or weights) attached, performs some mathmatical operation with them and returns a prediction."
   ]
  },
  {
   "cell_type": "code",
   "execution_count": 2,
   "id": "d8d4991d-b952-4285-9391-fe42819588d2",
   "metadata": {
    "collapsed": true,
    "jupyter": {
     "outputs_hidden": true
    }
   },
   "outputs": [
    {
     "name": "stdout",
     "output_type": "stream",
     "text": [
      "0.8500000000000001\n"
     ]
    }
   ],
   "source": [
    "weight = 0.1\n",
    "def neural_network(input, weight):\n",
    "    prediction = input * weight\n",
    "    return prediction\n",
    "\n",
    "number_of_toes = [8.5, 9.5, 10, 9]\n",
    "input = number_of_toes[0]\n",
    "\n",
    "pred = neural_network(input, weight)\n",
    "print(pred)"
   ]
  },
  {
   "cell_type": "markdown",
   "id": "162802cc-85d8-4815-989f-b8edfb8544f4",
   "metadata": {},
   "source": [
    "## A neural network with multiple inputs"
   ]
  },
  {
   "cell_type": "code",
   "execution_count": 4,
   "id": "22218c90-412f-432d-ac83-37b449e15b66",
   "metadata": {},
   "outputs": [
    {
     "name": "stdout",
     "output_type": "stream",
     "text": [
      "0.9800000000000001\n"
     ]
    }
   ],
   "source": [
    "def w_sum(a,b):\n",
    "    assert(len(a) == len(b))\n",
    "    output = 0\n",
    "    for i in range(len(a)):\n",
    "        output += (a[i] * b[i])\n",
    "    return output\n",
    "\n",
    "weights = [0.1, 0.2, 0]\n",
    "def neural_network(input, weight):\n",
    "    prediction = w_sum(input,weight)\n",
    "    return prediction\n",
    "\n",
    "toes = [8.5, 9.5, 9.9, 9.0]\n",
    "wlrec = [0.65, 0.8, 0.8, 0.9]\n",
    "nfans = [1.2, 1.3, 0.5, 1.0]\n",
    "\n",
    "input = [toes[0], wlrec[0], nfans[0]]\n",
    "\n",
    "pred = neural_network(input, weights)\n",
    "print(pred)"
   ]
  },
  {
   "cell_type": "markdown",
   "id": "e8c266ef-c509-4e88-9a5c-601406e00fe6",
   "metadata": {},
   "source": [
    "This neural network multiplies 3 input values by their corresponding weights, creating a weighted sum. The weighted sum is actually a dot product of the two vectors\n",
    "input and weights."
   ]
  },
  {
   "cell_type": "markdown",
   "id": "60236c31-ff8d-47b7-9b5a-5929f61627b5",
   "metadata": {},
   "source": [
    "### Using numpy"
   ]
  },
  {
   "cell_type": "code",
   "execution_count": 2,
   "id": "a5a5d37c-c5a6-4e08-a6f9-49b0911436a2",
   "metadata": {},
   "outputs": [
    {
     "name": "stdout",
     "output_type": "stream",
     "text": [
      "0.9800000000000001\n"
     ]
    }
   ],
   "source": [
    "import numpy as np\n",
    "\n",
    "def neural_network(input, weights) -> float:\n",
    "    prediction = input.dot(weights)\n",
    "    return prediction\n",
    "\n",
    "weights = np.array([0.1, 0.2, 0])\n",
    "toes = np.array([8.5, 9.5, 9.9, 9.0])\n",
    "wlrec = np.array([0.65, 0.8, 0.8, 0.9])\n",
    "nfans = np.array([1.2, 1.3, 0.5, 1.0])\n",
    "\n",
    "input = np.array([toes[0], wlrec[0], nfans[0]])\n",
    "\n",
    "pred = neural_network(input, weights)\n",
    "print(pred)"
   ]
  },
  {
   "cell_type": "markdown",
   "id": "903de975-083c-4f8b-9931-4984d337600e",
   "metadata": {},
   "source": [
    "## A Neural Network with multiple outputs\n",
    "\n",
    "This neural network makes 3 separate predictions that act like 3 separate single-weight neural networks.\n",
    "\n",
    "It predicts not just if the team won or lost but also if the players are happy or sad and are they hurt."
   ]
  },
  {
   "cell_type": "code",
   "execution_count": 1,
   "id": "364d5aaa-0b41-4abd-9947-b1dddba38540",
   "metadata": {},
   "outputs": [
    {
     "name": "stdout",
     "output_type": "stream",
     "text": [
      "[0.195, 0.13, 0.5850000000000001]\n"
     ]
    }
   ],
   "source": [
    "def ele_mul(scalar, vector):\n",
    "    output = [0, 0, 0]\n",
    "\n",
    "    assert(len(output) == len(vector))\n",
    "\n",
    "    for i in range(len(vector)):\n",
    "        output[i] = scalar * vector[i]\n",
    "\n",
    "    return output\n",
    "\n",
    "def neural_network(input, weights):\n",
    "    pred = ele_mul(input, weights) # scalar multiplication\n",
    "    return pred\n",
    "\n",
    "weights = [0.3, 0.2, 0.9]\n",
    "wlrec = [0.65, 0.8, 0.8, 0.9]\n",
    "input = wlrec[0]\n",
    "\n",
    "pred =  neural_network(input, weights)\n",
    "print(pred)"
   ]
  },
  {
   "cell_type": "markdown",
   "id": "f08e81e0-357d-452b-83d8-4569aa68afb0",
   "metadata": {},
   "source": [
    "### Using numpy"
   ]
  },
  {
   "cell_type": "code",
   "execution_count": 2,
   "id": "004dfa22-85d4-4877-bc10-7217a69bdbde",
   "metadata": {},
   "outputs": [
    {
     "name": "stdout",
     "output_type": "stream",
     "text": [
      "[0.195 0.13  0.585]\n"
     ]
    }
   ],
   "source": [
    "import numpy as np\n",
    "\n",
    "def neural_network(input, weights):\n",
    "    pred = input * weights\n",
    "    return pred\n",
    "\n",
    "weights = np.array([0.3, 0.2, 0.9])\n",
    "wlrec = np.array([0.65, 0.8, 0.8, 0.9])\n",
    "input = wlrec[0]\n",
    "\n",
    "pred =  neural_network(input, weights)\n",
    "print(pred)"
   ]
  },
  {
   "cell_type": "markdown",
   "id": "25dbebf9-d85b-45d2-9a5e-c463c1acb7ad",
   "metadata": {},
   "source": [
    "## Neural Networks with multiple inputs and multiple outputs\n",
    "\n",
    "Both of the above ways can be combined to build a neural network that takes in multiple inputs and produces multiple outputs (predictions)"
   ]
  },
  {
   "cell_type": "code",
   "execution_count": 4,
   "id": "66d6bb13-eecf-4804-8ead-f94813f0b3f4",
   "metadata": {},
   "outputs": [
    {
     "name": "stdout",
     "output_type": "stream",
     "text": [
      "[0.555, 0.9800000000000001, 0.9650000000000001]\n"
     ]
    }
   ],
   "source": [
    "def w_sum(a,b):\n",
    "    assert(len(a) == len(b))\n",
    "    output = 0\n",
    "    for i in range(len(a)):\n",
    "        output += (a[i] * b[i])\n",
    "    return output\n",
    "\n",
    "def vect_mat_mul(vect, matrix):\n",
    "    assert(len(vect) == len(matrix))\n",
    "    output = [0, 0, 0]\n",
    "\n",
    "    for i in range(len(vect)):\n",
    "        output[i] = w_sum(vect, matrix[i])\n",
    "\n",
    "    return output\n",
    "\n",
    "def neural_network(input, weights):\n",
    "    pred = vect_mat_mul(input, weights)\n",
    "\n",
    "    return pred\n",
    "\n",
    "weights = [\n",
    "    #toes, win, fans\n",
    "    [0.1, 0.1, -0.3], #hurt?\n",
    "    [0.1, 0.2, 0.0], # won?\n",
    "    [0.0, 1.3, 0.1], # sad?\n",
    "]\n",
    "\n",
    "toes = [8.5, 9.5, 9.9, 9.0]\n",
    "wlrec = [0.65, 0.8, 0.8, 0.9]\n",
    "nfans = [1.2, 1.3, 0.5, 1.0]\n",
    "\n",
    "input = [toes[0], wlrec[0], nfans[0]]\n",
    "\n",
    "pred = neural_network(input, weights)\n",
    "print(pred)"
   ]
  },
  {
   "cell_type": "markdown",
   "id": "b7417b89-d9b4-4530-9285-543a09c9885a",
   "metadata": {},
   "source": [
    "### Using numpy"
   ]
  },
  {
   "cell_type": "code",
   "execution_count": 15,
   "id": "7d791062-19e9-4de9-abe2-79e2cd37f406",
   "metadata": {
    "editable": true,
    "slideshow": {
     "slide_type": ""
    },
    "tags": []
   },
   "outputs": [
    {
     "name": "stdout",
     "output_type": "stream",
     "text": [
      "[0.555, 0.9800000000000001, 0.9650000000000001]\n",
      "[0.555 0.98  0.965]\n",
      "[[0.555 0.98  0.965]\n",
      " [0.64  1.11  1.17 ]\n",
      " [0.92  1.15  1.09 ]\n",
      " [0.69  1.08  1.27 ]]\n"
     ]
    }
   ],
   "source": [
    "import numpy as np\n",
    "\n",
    "def vect_mat_mul(vect, matrix):\n",
    "    assert(len(vect) == len(matrix))\n",
    "    output = [0, 0, 0]\n",
    "\n",
    "    for i in range(len(vect)):\n",
    "        output[i] = vect.dot(matrix[i])\n",
    "\n",
    "    return output\n",
    "\n",
    "def neural_network(input, weights):\n",
    "    pred = vect_mat_mul(input, weights)\n",
    "\n",
    "    return pred\n",
    "\n",
    "weights = np.array([\n",
    "    #toes, win, fans\n",
    "    np.array([0.1, 0.1, -0.3]), #hurt?\n",
    "    np.array([0.1, 0.2, 0.0]), # won?\n",
    "    np.array([0.0, 1.3, 0.1]), # sad?\n",
    "])\n",
    "\n",
    "toes = np.array([8.5, 9.5, 9.9, 9.0])\n",
    "wlrec = np.array([0.65, 0.8, 0.8, 0.9])\n",
    "nfans = np.array([1.2, 1.3, 0.5, 1.0])\n",
    "\n",
    "input = np.array([toes[0], wlrec[0], nfans[0]])\n",
    "input_matrix = np.array([toes, wlrec, nfans])\n",
    "\n",
    "pred = neural_network(input, weights)\n",
    "print(pred)\n",
    "\n",
    "# The easy way to do this...\n",
    "print(input@weights.T)\n",
    "print(input_matrix.T@weights.T)"
   ]
  },
  {
   "cell_type": "markdown",
   "id": "20fb6b6d-cc4d-4cf1-8643-6d235952e83e",
   "metadata": {
    "editable": true,
    "slideshow": {
     "slide_type": ""
    },
    "tags": []
   },
   "source": [
    "## Predicting on Predictions\n",
    "-----\n",
    "### Neural networks can be stacked!\n",
    "\n",
    "You can take the output of one network and feed it as input to another network. This results in two consecutive vector-matrix multiplications."
   ]
  },
  {
   "cell_type": "code",
   "execution_count": 16,
   "id": "9090ca76-e3c7-4edb-934f-ed9cb9b0d859",
   "metadata": {
    "editable": true,
    "slideshow": {
     "slide_type": ""
    },
    "tags": []
   },
   "outputs": [
    {
     "name": "stdout",
     "output_type": "stream",
     "text": [
      "[0.2135 0.145  0.5065]\n"
     ]
    }
   ],
   "source": [
    "import numpy as np\n",
    "\n",
    "ih_wgt = np.array([\n",
    "              # toes % win # fans\n",
    "              [0.1, 0.2,-0.1],   # hid[0]\n",
    "              [-0.1,0.1,0.9],    # hid[1]\n",
    "              [0.1, 0.4,0.1]]).T # hid[2]\n",
    "\n",
    "hp_wgt = np.array([\n",
    "              # hid[0] hid[1] hid[2]\n",
    "            [0.3, 1.1, -0.3],    # hurt?\n",
    "            [0.1, 0.2, 0.0],     # win? \n",
    "            [0.0, 1.3, 0.1] ]).T # sad?\n",
    "\n",
    "weights = [ih_wgt, hp_wgt]\n",
    "\n",
    "def neural_network(input, weights):\n",
    "    hid = input.dot(weights[0]) \n",
    "    pred = hid.dot(weights[1]) \n",
    "    return pred\n",
    "    \n",
    "toes = np.array([8.5, 9.5, 9.9, 9.0]) \n",
    "wlrec = np.array([0.65,0.8, 0.8, 0.9]) \n",
    "nfans = np.array([1.2, 1.3, 0.5, 1.0])\n",
    "\n",
    "input = np.array([toes[0],wlrec[0],nfans[0]])\n",
    "\n",
    "pred = neural_network(input,weights) \n",
    "print(pred)"
   ]
  },
  {
   "cell_type": "markdown",
   "id": "710e9312-8cf7-49fe-b576-aaaf9c65e02f",
   "metadata": {
    "editable": true,
    "slideshow": {
     "slide_type": ""
    },
    "tags": []
   },
   "source": [
    "## A Primer on Numpy\n",
    "-----"
   ]
  },
  {
   "cell_type": "code",
   "execution_count": 19,
   "id": "f32857df-6467-450b-bb11-ec3325c61c2d",
   "metadata": {
    "editable": true,
    "slideshow": {
     "slide_type": ""
    },
    "tags": []
   },
   "outputs": [
    {
     "name": "stdout",
     "output_type": "stream",
     "text": [
      "[0 1 2 3]\n",
      "[4 5 6 7]\n",
      "[[0 1 2 3]\n",
      " [4 5 6 7]]\n",
      "[[0. 0. 0. 0.]\n",
      " [0. 0. 0. 0.]]\n",
      "[[0.1160241  0.99505324 0.69125262 0.35971728 0.04399064]\n",
      " [0.97598944 0.94230765 0.05596662 0.57795291 0.10725119]]\n",
      "[0 2 4 6]\n",
      "[ 0  5 12 21]\n",
      "[ 0 10 24 42]\n",
      "[[ 0  1  4  9]\n",
      " [ 0  5 12 21]]\n"
     ]
    },
    {
     "ename": "ValueError",
     "evalue": "operands could not be broadcast together with shapes (4,) (2,5) ",
     "output_type": "error",
     "traceback": [
      "\u001b[0;31m---------------------------------------------------------------------------\u001b[0m",
      "\u001b[0;31mValueError\u001b[0m                                Traceback (most recent call last)",
      "Cell \u001b[0;32mIn[19], line 25\u001b[0m\n\u001b[1;32m     21\u001b[0m \u001b[38;5;28mprint\u001b[39m(a \u001b[38;5;241m*\u001b[39m b \u001b[38;5;241m*\u001b[39m \u001b[38;5;241m2\u001b[39m)  \u001b[38;5;66;03m# Elementwise multiplication followed by a scalar multiplication\u001b[39;00m\n\u001b[1;32m     23\u001b[0m \u001b[38;5;28mprint\u001b[39m(a \u001b[38;5;241m*\u001b[39m c)      \u001b[38;5;66;03m# Elementwise multiplication on every row of matrix c. The number of columns of a and c MUST be equal.\u001b[39;00m\n\u001b[0;32m---> 25\u001b[0m \u001b[38;5;28mprint\u001b[39m(\u001b[43ma\u001b[49m\u001b[43m \u001b[49m\u001b[38;5;241;43m*\u001b[39;49m\u001b[43m \u001b[49m\u001b[43me\u001b[49m)      \u001b[38;5;66;03m# This throws a ValueError because the columns ARE NOT equal.\u001b[39;00m\n",
      "\u001b[0;31mValueError\u001b[0m: operands could not be broadcast together with shapes (4,) (2,5) "
     ]
    }
   ],
   "source": [
    "import numpy as np\n",
    "\n",
    "a = np.array([0,1,2,3]) # A vector (1x4 matrix)\n",
    "b = np.array([4,5,6,7]) # Another vector (1x4 matrix)\n",
    "c = np.array([[0,1,2,3],\n",
    "             [4,5,6,7]]) # A 2x4 matrix\n",
    "\n",
    "d = np.zeros((2,4))      # A 2x4 matrix of zeroes\n",
    "e = np.random.rand(2,5)  # A 2x5 matrix of random numbers between 0 and 1\n",
    "\n",
    "print(a)\n",
    "print(b)\n",
    "print(c)\n",
    "print(d)\n",
    "print(e)\n",
    "\n",
    "\n",
    "print(2 * a)    # Scalar multiplication\n",
    "print(a * b)    # Elementwise multiplication between a and b\n",
    "\n",
    "print(a * b * 2)  # Elementwise multiplication followed by a scalar multiplication\n",
    "\n",
    "print(a * c)      # Elementwise multiplication on every row of matrix c. The number of columns of a and c MUST be equal.\n",
    "\n",
    "print(a * e)      # This throws a ValueError because the columns ARE NOT equal."
   ]
  },
  {
   "cell_type": "code",
   "execution_count": null,
   "id": "5a6b3964-0510-4ff9-9310-93dd42bb972e",
   "metadata": {
    "editable": true,
    "slideshow": {
     "slide_type": ""
    },
    "tags": []
   },
   "outputs": [],
   "source": [
    "import numpy as np\n",
    "\n",
    "a = np.zeroes( (1,4) )\n",
    "b = np.zeroes( (4,3) )\n",
    "\n",
    "c = a.dot(b) # The dot product is different than multiplication\n",
    "\n",
    "print(c.shape)"
   ]
  },
  {
   "cell_type": "code",
   "execution_count": 23,
   "id": "7da57570-5288-4af4-9766-faa52e483f68",
   "metadata": {
    "editable": true,
    "slideshow": {
     "slide_type": ""
    },
    "tags": []
   },
   "outputs": [
    {
     "name": "stdout",
     "output_type": "stream",
     "text": [
      "4\n",
      "8\n",
      "32\n",
      "64\n",
      "256\n",
      "256\n"
     ]
    }
   ],
   "source": [
    "print(2**2)\n",
    "print(2**3)\n",
    "print(2**(2+3))\n",
    "print(2**(2*3))\n",
    "print(2**(2**3))\n",
    "print(2**8)"
   ]
  }
 ],
 "metadata": {
  "kernelspec": {
   "display_name": "grokkingdl-py3.11.5",
   "language": "python",
   "name": "grokkingdl-py3.11.5"
  },
  "language_info": {
   "codemirror_mode": {
    "name": "ipython",
    "version": 3
   },
   "file_extension": ".py",
   "mimetype": "text/x-python",
   "name": "python",
   "nbconvert_exporter": "python",
   "pygments_lexer": "ipython3",
   "version": "3.11.5"
  }
 },
 "nbformat": 4,
 "nbformat_minor": 5
}
